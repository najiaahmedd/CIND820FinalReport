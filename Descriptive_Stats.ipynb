{
  "nbformat": 4,
  "nbformat_minor": 0,
  "metadata": {
    "colab": {
      "name": "Descriptive Stats",
      "provenance": [],
      "collapsed_sections": [],
      "authorship_tag": "ABX9TyOeOjLxyYDM5to8W7tkBXKv",
      "include_colab_link": true
    },
    "kernelspec": {
      "name": "ir",
      "display_name": "R"
    },
    "language_info": {
      "name": "R"
    }
  },
  "cells": [
    {
      "cell_type": "markdown",
      "metadata": {
        "id": "view-in-github",
        "colab_type": "text"
      },
      "source": [
        "<a href=\"https://colab.research.google.com/github/najiaahmedd/CIND820FinalReport/blob/main/Descriptive_Stats.ipynb\" target=\"_parent\"><img src=\"https://colab.research.google.com/assets/colab-badge.svg\" alt=\"Open In Colab\"/></a>"
      ]
    },
    {
      "cell_type": "code",
      "source": [
        "projectdata<-read.csv(\"projectfiles.csv\")\n",
        "head(projectdata)"
      ],
      "metadata": {
        "colab": {
          "base_uri": "https://localhost:8080/",
          "height": 514
        },
        "id": "Yt3e8KID4BwB",
        "outputId": "ed9fbd01-7489-4522-de71-f72a82c16220"
      },
      "execution_count": 6,
      "outputs": [
        {
          "output_type": "display_data",
          "data": {
            "text/html": [
              "<table class=\"dataframe\">\n",
              "<caption>A data.frame: 6 × 47</caption>\n",
              "<thead>\n",
              "\t<tr><th></th><th scope=col>Dis.No</th><th scope=col>Year</th><th scope=col>Seq</th><th scope=col>Glide</th><th scope=col>Disaster.Group</th><th scope=col>Disaster.Subgroup</th><th scope=col>Disaster.Type</th><th scope=col>Disaster.Subtype</th><th scope=col>Disaster.Subsubtype</th><th scope=col>Event.Name</th><th scope=col>⋯</th><th scope=col>No.Homeless</th><th scope=col>Total.Affected</th><th scope=col>Reconstruction.Costs...000.US..</th><th scope=col>Insured.Damages...000.US..</th><th scope=col>Total.Damages...000.US..</th><th scope=col>CPI</th><th scope=col>Adm.Level</th><th scope=col>Admin1.Code</th><th scope=col>Admin2.Code</th><th scope=col>Geo.Locations</th></tr>\n",
              "\t<tr><th></th><th scope=col>&lt;chr&gt;</th><th scope=col>&lt;int&gt;</th><th scope=col>&lt;int&gt;</th><th scope=col>&lt;chr&gt;</th><th scope=col>&lt;chr&gt;</th><th scope=col>&lt;chr&gt;</th><th scope=col>&lt;chr&gt;</th><th scope=col>&lt;chr&gt;</th><th scope=col>&lt;chr&gt;</th><th scope=col>&lt;chr&gt;</th><th scope=col>⋯</th><th scope=col>&lt;int&gt;</th><th scope=col>&lt;int&gt;</th><th scope=col>&lt;int&gt;</th><th scope=col>&lt;int&gt;</th><th scope=col>&lt;int&gt;</th><th scope=col>&lt;dbl&gt;</th><th scope=col>&lt;chr&gt;</th><th scope=col>&lt;chr&gt;</th><th scope=col>&lt;chr&gt;</th><th scope=col>&lt;chr&gt;</th></tr>\n",
              "</thead>\n",
              "<tbody>\n",
              "\t<tr><th scope=row>1</th><td>1970-0013-ARG</td><td>1970</td><td> 13</td><td></td><td>Natural</td><td>Hydrological  </td><td>Flood</td><td>                </td><td></td><td>   </td><td>⋯</td><td>NA</td><td>      NA</td><td>NA</td><td>NA</td><td>25000</td><td>15.00128</td><td></td><td></td><td></td><td></td></tr>\n",
              "\t<tr><th scope=row>2</th><td>1970-0109-AUS</td><td>1970</td><td>109</td><td></td><td>Natural</td><td>Meteorological</td><td>Storm</td><td>Tropical cyclone</td><td></td><td>Ada</td><td>⋯</td><td>NA</td><td>      NA</td><td>NA</td><td>NA</td><td>72475</td><td>15.00128</td><td></td><td></td><td></td><td></td></tr>\n",
              "\t<tr><th scope=row>3</th><td>1970-0044-BEN</td><td>1970</td><td> 44</td><td></td><td>Natural</td><td>Hydrological  </td><td>Flood</td><td>                </td><td></td><td>   </td><td>⋯</td><td>NA</td><td>      NA</td><td>NA</td><td>NA</td><td>  200</td><td>15.00128</td><td></td><td></td><td></td><td></td></tr>\n",
              "\t<tr><th scope=row>4</th><td>1970-0063-BGD</td><td>1970</td><td> 63</td><td></td><td>Natural</td><td>Meteorological</td><td>Storm</td><td>Tropical cyclone</td><td></td><td>   </td><td>⋯</td><td>NA</td><td> 3648000</td><td>NA</td><td>NA</td><td>86400</td><td>15.00128</td><td></td><td></td><td></td><td></td></tr>\n",
              "\t<tr><th scope=row>5</th><td>1970-0026-BGD</td><td>1970</td><td> 26</td><td></td><td>Natural</td><td>Meteorological</td><td>Storm</td><td>                </td><td></td><td>   </td><td>⋯</td><td>NA</td><td>     110</td><td>NA</td><td>NA</td><td>   NA</td><td>15.00128</td><td></td><td></td><td></td><td></td></tr>\n",
              "\t<tr><th scope=row>6</th><td>1970-0035-BGD</td><td>1970</td><td> 35</td><td></td><td>Natural</td><td>Hydrological  </td><td>Flood</td><td>                </td><td></td><td>   </td><td>⋯</td><td>NA</td><td>10000000</td><td>NA</td><td>NA</td><td>25000</td><td>15.00128</td><td></td><td></td><td></td><td></td></tr>\n",
              "</tbody>\n",
              "</table>\n"
            ],
            "text/markdown": "\nA data.frame: 6 × 47\n\n| <!--/--> | Dis.No &lt;chr&gt; | Year &lt;int&gt; | Seq &lt;int&gt; | Glide &lt;chr&gt; | Disaster.Group &lt;chr&gt; | Disaster.Subgroup &lt;chr&gt; | Disaster.Type &lt;chr&gt; | Disaster.Subtype &lt;chr&gt; | Disaster.Subsubtype &lt;chr&gt; | Event.Name &lt;chr&gt; | ⋯ ⋯ | No.Homeless &lt;int&gt; | Total.Affected &lt;int&gt; | Reconstruction.Costs...000.US.. &lt;int&gt; | Insured.Damages...000.US.. &lt;int&gt; | Total.Damages...000.US.. &lt;int&gt; | CPI &lt;dbl&gt; | Adm.Level &lt;chr&gt; | Admin1.Code &lt;chr&gt; | Admin2.Code &lt;chr&gt; | Geo.Locations &lt;chr&gt; |\n|---|---|---|---|---|---|---|---|---|---|---|---|---|---|---|---|---|---|---|---|---|---|\n| 1 | 1970-0013-ARG | 1970 |  13 | <!----> | Natural | Hydrological   | Flood | <!----> | <!----> | <!----> | ⋯ | NA |       NA | NA | NA | 25000 | 15.00128 | <!----> | <!----> | <!----> | <!----> |\n| 2 | 1970-0109-AUS | 1970 | 109 | <!----> | Natural | Meteorological | Storm | Tropical cyclone | <!----> | Ada | ⋯ | NA |       NA | NA | NA | 72475 | 15.00128 | <!----> | <!----> | <!----> | <!----> |\n| 3 | 1970-0044-BEN | 1970 |  44 | <!----> | Natural | Hydrological   | Flood | <!----> | <!----> | <!----> | ⋯ | NA |       NA | NA | NA |   200 | 15.00128 | <!----> | <!----> | <!----> | <!----> |\n| 4 | 1970-0063-BGD | 1970 |  63 | <!----> | Natural | Meteorological | Storm | Tropical cyclone | <!----> | <!----> | ⋯ | NA |  3648000 | NA | NA | 86400 | 15.00128 | <!----> | <!----> | <!----> | <!----> |\n| 5 | 1970-0026-BGD | 1970 |  26 | <!----> | Natural | Meteorological | Storm | <!----> | <!----> | <!----> | ⋯ | NA |      110 | NA | NA |    NA | 15.00128 | <!----> | <!----> | <!----> | <!----> |\n| 6 | 1970-0035-BGD | 1970 |  35 | <!----> | Natural | Hydrological   | Flood | <!----> | <!----> | <!----> | ⋯ | NA | 10000000 | NA | NA | 25000 | 15.00128 | <!----> | <!----> | <!----> | <!----> |\n\n",
            "text/latex": "A data.frame: 6 × 47\n\\begin{tabular}{r|lllllllllllllllllllll}\n  & Dis.No & Year & Seq & Glide & Disaster.Group & Disaster.Subgroup & Disaster.Type & Disaster.Subtype & Disaster.Subsubtype & Event.Name & ⋯ & No.Homeless & Total.Affected & Reconstruction.Costs...000.US.. & Insured.Damages...000.US.. & Total.Damages...000.US.. & CPI & Adm.Level & Admin1.Code & Admin2.Code & Geo.Locations\\\\\n  & <chr> & <int> & <int> & <chr> & <chr> & <chr> & <chr> & <chr> & <chr> & <chr> & ⋯ & <int> & <int> & <int> & <int> & <int> & <dbl> & <chr> & <chr> & <chr> & <chr>\\\\\n\\hline\n\t1 & 1970-0013-ARG & 1970 &  13 &  & Natural & Hydrological   & Flood &                  &  &     & ⋯ & NA &       NA & NA & NA & 25000 & 15.00128 &  &  &  & \\\\\n\t2 & 1970-0109-AUS & 1970 & 109 &  & Natural & Meteorological & Storm & Tropical cyclone &  & Ada & ⋯ & NA &       NA & NA & NA & 72475 & 15.00128 &  &  &  & \\\\\n\t3 & 1970-0044-BEN & 1970 &  44 &  & Natural & Hydrological   & Flood &                  &  &     & ⋯ & NA &       NA & NA & NA &   200 & 15.00128 &  &  &  & \\\\\n\t4 & 1970-0063-BGD & 1970 &  63 &  & Natural & Meteorological & Storm & Tropical cyclone &  &     & ⋯ & NA &  3648000 & NA & NA & 86400 & 15.00128 &  &  &  & \\\\\n\t5 & 1970-0026-BGD & 1970 &  26 &  & Natural & Meteorological & Storm &                  &  &     & ⋯ & NA &      110 & NA & NA &    NA & 15.00128 &  &  &  & \\\\\n\t6 & 1970-0035-BGD & 1970 &  35 &  & Natural & Hydrological   & Flood &                  &  &     & ⋯ & NA & 10000000 & NA & NA & 25000 & 15.00128 &  &  &  & \\\\\n\\end{tabular}\n",
            "text/plain": [
              "  Dis.No        Year Seq Glide Disaster.Group Disaster.Subgroup Disaster.Type\n",
              "1 1970-0013-ARG 1970  13       Natural        Hydrological      Flood        \n",
              "2 1970-0109-AUS 1970 109       Natural        Meteorological    Storm        \n",
              "3 1970-0044-BEN 1970  44       Natural        Hydrological      Flood        \n",
              "4 1970-0063-BGD 1970  63       Natural        Meteorological    Storm        \n",
              "5 1970-0026-BGD 1970  26       Natural        Meteorological    Storm        \n",
              "6 1970-0035-BGD 1970  35       Natural        Hydrological      Flood        \n",
              "  Disaster.Subtype Disaster.Subsubtype Event.Name ⋯ No.Homeless Total.Affected\n",
              "1                                                 ⋯ NA                NA      \n",
              "2 Tropical cyclone                     Ada        ⋯ NA                NA      \n",
              "3                                                 ⋯ NA                NA      \n",
              "4 Tropical cyclone                                ⋯ NA           3648000      \n",
              "5                                                 ⋯ NA               110      \n",
              "6                                                 ⋯ NA          10000000      \n",
              "  Reconstruction.Costs...000.US.. Insured.Damages...000.US..\n",
              "1 NA                              NA                        \n",
              "2 NA                              NA                        \n",
              "3 NA                              NA                        \n",
              "4 NA                              NA                        \n",
              "5 NA                              NA                        \n",
              "6 NA                              NA                        \n",
              "  Total.Damages...000.US.. CPI      Adm.Level Admin1.Code Admin2.Code\n",
              "1 25000                    15.00128                                  \n",
              "2 72475                    15.00128                                  \n",
              "3   200                    15.00128                                  \n",
              "4 86400                    15.00128                                  \n",
              "5    NA                    15.00128                                  \n",
              "6 25000                    15.00128                                  \n",
              "  Geo.Locations\n",
              "1              \n",
              "2              \n",
              "3              \n",
              "4              \n",
              "5              \n",
              "6              "
            ]
          },
          "metadata": {}
        }
      ]
    },
    {
      "cell_type": "code",
      "source": [
        "str(projectdata)"
      ],
      "metadata": {
        "colab": {
          "base_uri": "https://localhost:8080/"
        },
        "id": "hJKsIFaQ4Qiz",
        "outputId": "8be031da-0f12-4df5-fc60-0422f2a47031"
      },
      "execution_count": 9,
      "outputs": [
        {
          "output_type": "stream",
          "name": "stdout",
          "text": [
            "'data.frame':\t14644 obs. of  47 variables:\n",
            " $ Dis.No                         : chr  \"1970-0013-ARG\" \"1970-0109-AUS\" \"1970-0044-BEN\" \"1970-0063-BGD\" ...\n",
            " $ Year                           : int  1970 1970 1970 1970 1970 1970 1970 1970 1970 1970 ...\n",
            " $ Seq                            : int  13 109 44 63 26 35 58 9005 37 54 ...\n",
            " $ Glide                          : chr  \"\" \"\" \"\" \"\" ...\n",
            " $ Disaster.Group                 : chr  \"Natural\" \"Natural\" \"Natural\" \"Natural\" ...\n",
            " $ Disaster.Subgroup              : chr  \"Hydrological\" \"Meteorological\" \"Hydrological\" \"Meteorological\" ...\n",
            " $ Disaster.Type                  : chr  \"Flood\" \"Storm\" \"Flood\" \"Storm\" ...\n",
            " $ Disaster.Subtype               : chr  \"\" \"Tropical cyclone\" \"\" \"Tropical cyclone\" ...\n",
            " $ Disaster.Subsubtype            : chr  \"\" \"\" \"\" \"\" ...\n",
            " $ Event.Name                     : chr  \"\" \"Ada\" \"\" \"\" ...\n",
            " $ Country                        : chr  \"Argentina\" \"Australia\" \"Benin\" \"Bangladesh\" ...\n",
            " $ ISO                            : chr  \"ARG\" \"AUS\" \"BEN\" \"BGD\" ...\n",
            " $ Region                         : chr  \"South America\" \"Australia and New Zealand\" \"Western Africa\" \"Southern Asia\" ...\n",
            " $ Continent                      : chr  \"Americas\" \"Oceania\" \"Africa\" \"Asia\" ...\n",
            " $ Location                       : chr  \"Mendoza\" \"Queensland\" \"Atacora region\" \"Khulna, Chittagong\" ...\n",
            " $ Origin                         : chr  \"\" \"\" \"\" \"\" ...\n",
            " $ Associated.Dis                 : chr  \"\" \"\" \"\" \"\" ...\n",
            " $ Associated.Dis2                : chr  \"\" \"\" \"\" \"\" ...\n",
            " $ OFDA.Response                  : chr  \"\" \"\" \"Yes\" \"Yes\" ...\n",
            " $ Appeal                         : chr  \"\" \"\" \"\" \"\" ...\n",
            " $ Declaration                    : chr  \"\" \"\" \"\" \"\" ...\n",
            " $ Aid.Contribution               : int  NA NA NA NA NA NA NA NA NA NA ...\n",
            " $ Dis.Mag.Value                  : int  NA NA NA NA NA NA NA NA NA NA ...\n",
            " $ Dis.Mag.Scale                  : chr  \"Km2\" \"Kph\" \"Km2\" \"Kph\" ...\n",
            " $ Latitude                       : chr  \"\" \"\" \"\" \"\" ...\n",
            " $ Longitude                      : chr  \"\" \"\" \"\" \"\" ...\n",
            " $ Local.Time                     : chr  \"\" \"\" \"\" \"\" ...\n",
            " $ River.Basin                    : chr  \"\" \"\" \"\" \"\" ...\n",
            " $ Start.Year                     : int  1970 1970 1970 1970 1970 1970 1970 1970 1970 1970 ...\n",
            " $ Start.Month                    : int  1 1 9 11 4 7 10 8 7 10 ...\n",
            " $ Start.Day                      : int  4 NA NA 12 13 NA 23 NA 21 2 ...\n",
            " $ End.Year                       : int  1970 1970 1970 1970 1970 1970 1970 1970 1970 1970 ...\n",
            " $ End.Month                      : int  1 1 9 11 4 7 10 NA 7 10 ...\n",
            " $ End.Day                        : int  4 NA NA 12 13 NA 23 NA 21 2 ...\n",
            " $ Total.Deaths                   : int  36 13 NA 300000 17 NA 300 NA 172 3 ...\n",
            " $ No.Injured                     : int  NA NA NA NA NA NA NA NA NA 10 ...\n",
            " $ No.Affected                    : int  NA NA NA 3648000 110 10000000 NA 10000000 104371 200 ...\n",
            " $ No.Homeless                    : int  NA NA NA NA NA NA NA NA NA NA ...\n",
            " $ Total.Affected                 : int  NA NA NA 3648000 110 10000000 NA 10000000 104371 210 ...\n",
            " $ Reconstruction.Costs...000.US..: int  NA NA NA NA NA NA NA NA NA NA ...\n",
            " $ Insured.Damages...000.US..     : int  NA NA NA NA NA NA NA NA NA NA ...\n",
            " $ Total.Damages...000.US..       : int  25000 72475 200 86400 NA 25000 NA 100 46000 500 ...\n",
            " $ CPI                            : num  15 15 15 15 15 ...\n",
            " $ Adm.Level                      : chr  \"\" \"\" \"\" \"\" ...\n",
            " $ Admin1.Code                    : chr  \"\" \"\" \"\" \"\" ...\n",
            " $ Admin2.Code                    : chr  \"\" \"\" \"\" \"\" ...\n",
            " $ Geo.Locations                  : chr  \"\" \"\" \"\" \"\" ...\n"
          ]
        }
      ]
    },
    {
      "cell_type": "code",
      "source": [
        "data1 <- na.omit(projectdata)\n",
        "str(data1)"
      ],
      "metadata": {
        "id": "GPUMMUU04W7J",
        "colab": {
          "base_uri": "https://localhost:8080/"
        },
        "outputId": "d3321a73-8e86-457c-a79a-b8fe90c371c2"
      },
      "execution_count": 10,
      "outputs": [
        {
          "output_type": "stream",
          "name": "stdout",
          "text": [
            "'data.frame':\t1 obs. of  47 variables:\n",
            " $ Dis.No                         : chr \"1999-0268-TUR\"\n",
            " $ Year                           : int 1999\n",
            " $ Seq                            : int 268\n",
            " $ Glide                          : chr \"\"\n",
            " $ Disaster.Group                 : chr \"Natural\"\n",
            " $ Disaster.Subgroup              : chr \"Geophysical\"\n",
            " $ Disaster.Type                  : chr \"Earthquake\"\n",
            " $ Disaster.Subtype               : chr \"Ground movement\"\n",
            " $ Disaster.Subsubtype            : chr \"\"\n",
            " $ Event.Name                     : chr \"\"\n",
            " $ Country                        : chr \"Turkey\"\n",
            " $ ISO                            : chr \"TUR\"\n",
            " $ Region                         : chr \"Western Asia\"\n",
            " $ Continent                      : chr \"Asia\"\n",
            " $ Location                       : chr \"Izmit, Kocaeli, Yalova, Golcuk, Zonguldak, Sakarya, Tekirdag, Istanbul, Bursa, Eskisehir, Bolu\"\n",
            " $ Origin                         : chr \"\"\n",
            " $ Associated.Dis                 : chr \"\"\n",
            " $ Associated.Dis2                : chr \"\"\n",
            " $ OFDA.Response                  : chr \"Yes\"\n",
            " $ Appeal                         : chr \"\"\n",
            " $ Declaration                    : chr \"Yes\"\n",
            " $ Aid.Contribution               : int 116413\n",
            " $ Dis.Mag.Value                  : int 8\n",
            " $ Dis.Mag.Scale                  : chr \"Richter\"\n",
            " $ Latitude                       : chr \"40.748\"\n",
            " $ Longitude                      : chr \"29.864\"\n",
            " $ Local.Time                     : chr \"03:02\"\n",
            " $ River.Basin                    : chr \"\"\n",
            " $ Start.Year                     : int 1999\n",
            " $ Start.Month                    : int 8\n",
            " $ Start.Day                      : int 17\n",
            " $ End.Year                       : int 1999\n",
            " $ End.Month                      : int 8\n",
            " $ End.Day                        : int 17\n",
            " $ Total.Deaths                   : int 17127\n",
            " $ No.Injured                     : int 43953\n",
            " $ No.Affected                    : int 715000\n",
            " $ No.Homeless                    : int 600000\n",
            " $ Total.Affected                 : int 1358953\n",
            " $ Reconstruction.Costs...000.US..: int 25000000\n",
            " $ Insured.Damages...000.US..     : int 2000000\n",
            " $ Total.Damages...000.US..       : int 20000000\n",
            " $ CPI                            : num 64.4\n",
            " $ Adm.Level                      : chr \"\"\n",
            " $ Admin1.Code                    : chr \"\"\n",
            " $ Admin2.Code                    : chr \"\"\n",
            " $ Geo.Locations                  : chr \"\"\n",
            " - attr(*, \"na.action\")= 'omit' Named int [1:14643] 1 2 3 4 5 6 7 8 9 10 ...\n",
            "  ..- attr(*, \"names\")= chr [1:14643] \"1\" \"2\" \"3\" \"4\" ...\n"
          ]
        }
      ]
    },
    {
      "cell_type": "code",
      "source": [
        "data2<-read.csv(\"projectfiles.csv\")\n",
        "head(data2)"
      ],
      "metadata": {
        "id": "3JeLH4bGqR_q",
        "colab": {
          "base_uri": "https://localhost:8080/",
          "height": 514
        },
        "outputId": "279ad319-0ea7-44bc-c251-a7daaf0c9bcd"
      },
      "execution_count": 11,
      "outputs": [
        {
          "output_type": "display_data",
          "data": {
            "text/html": [
              "<table class=\"dataframe\">\n",
              "<caption>A data.frame: 6 × 47</caption>\n",
              "<thead>\n",
              "\t<tr><th></th><th scope=col>Dis.No</th><th scope=col>Year</th><th scope=col>Seq</th><th scope=col>Glide</th><th scope=col>Disaster.Group</th><th scope=col>Disaster.Subgroup</th><th scope=col>Disaster.Type</th><th scope=col>Disaster.Subtype</th><th scope=col>Disaster.Subsubtype</th><th scope=col>Event.Name</th><th scope=col>⋯</th><th scope=col>No.Homeless</th><th scope=col>Total.Affected</th><th scope=col>Reconstruction.Costs...000.US..</th><th scope=col>Insured.Damages...000.US..</th><th scope=col>Total.Damages...000.US..</th><th scope=col>CPI</th><th scope=col>Adm.Level</th><th scope=col>Admin1.Code</th><th scope=col>Admin2.Code</th><th scope=col>Geo.Locations</th></tr>\n",
              "\t<tr><th></th><th scope=col>&lt;chr&gt;</th><th scope=col>&lt;int&gt;</th><th scope=col>&lt;int&gt;</th><th scope=col>&lt;chr&gt;</th><th scope=col>&lt;chr&gt;</th><th scope=col>&lt;chr&gt;</th><th scope=col>&lt;chr&gt;</th><th scope=col>&lt;chr&gt;</th><th scope=col>&lt;chr&gt;</th><th scope=col>&lt;chr&gt;</th><th scope=col>⋯</th><th scope=col>&lt;int&gt;</th><th scope=col>&lt;int&gt;</th><th scope=col>&lt;int&gt;</th><th scope=col>&lt;int&gt;</th><th scope=col>&lt;int&gt;</th><th scope=col>&lt;dbl&gt;</th><th scope=col>&lt;chr&gt;</th><th scope=col>&lt;chr&gt;</th><th scope=col>&lt;chr&gt;</th><th scope=col>&lt;chr&gt;</th></tr>\n",
              "</thead>\n",
              "<tbody>\n",
              "\t<tr><th scope=row>1</th><td>1970-0013-ARG</td><td>1970</td><td> 13</td><td></td><td>Natural</td><td>Hydrological  </td><td>Flood</td><td>                </td><td></td><td>   </td><td>⋯</td><td>NA</td><td>      NA</td><td>NA</td><td>NA</td><td>25000</td><td>15.00128</td><td></td><td></td><td></td><td></td></tr>\n",
              "\t<tr><th scope=row>2</th><td>1970-0109-AUS</td><td>1970</td><td>109</td><td></td><td>Natural</td><td>Meteorological</td><td>Storm</td><td>Tropical cyclone</td><td></td><td>Ada</td><td>⋯</td><td>NA</td><td>      NA</td><td>NA</td><td>NA</td><td>72475</td><td>15.00128</td><td></td><td></td><td></td><td></td></tr>\n",
              "\t<tr><th scope=row>3</th><td>1970-0044-BEN</td><td>1970</td><td> 44</td><td></td><td>Natural</td><td>Hydrological  </td><td>Flood</td><td>                </td><td></td><td>   </td><td>⋯</td><td>NA</td><td>      NA</td><td>NA</td><td>NA</td><td>  200</td><td>15.00128</td><td></td><td></td><td></td><td></td></tr>\n",
              "\t<tr><th scope=row>4</th><td>1970-0063-BGD</td><td>1970</td><td> 63</td><td></td><td>Natural</td><td>Meteorological</td><td>Storm</td><td>Tropical cyclone</td><td></td><td>   </td><td>⋯</td><td>NA</td><td> 3648000</td><td>NA</td><td>NA</td><td>86400</td><td>15.00128</td><td></td><td></td><td></td><td></td></tr>\n",
              "\t<tr><th scope=row>5</th><td>1970-0026-BGD</td><td>1970</td><td> 26</td><td></td><td>Natural</td><td>Meteorological</td><td>Storm</td><td>                </td><td></td><td>   </td><td>⋯</td><td>NA</td><td>     110</td><td>NA</td><td>NA</td><td>   NA</td><td>15.00128</td><td></td><td></td><td></td><td></td></tr>\n",
              "\t<tr><th scope=row>6</th><td>1970-0035-BGD</td><td>1970</td><td> 35</td><td></td><td>Natural</td><td>Hydrological  </td><td>Flood</td><td>                </td><td></td><td>   </td><td>⋯</td><td>NA</td><td>10000000</td><td>NA</td><td>NA</td><td>25000</td><td>15.00128</td><td></td><td></td><td></td><td></td></tr>\n",
              "</tbody>\n",
              "</table>\n"
            ],
            "text/markdown": "\nA data.frame: 6 × 47\n\n| <!--/--> | Dis.No &lt;chr&gt; | Year &lt;int&gt; | Seq &lt;int&gt; | Glide &lt;chr&gt; | Disaster.Group &lt;chr&gt; | Disaster.Subgroup &lt;chr&gt; | Disaster.Type &lt;chr&gt; | Disaster.Subtype &lt;chr&gt; | Disaster.Subsubtype &lt;chr&gt; | Event.Name &lt;chr&gt; | ⋯ ⋯ | No.Homeless &lt;int&gt; | Total.Affected &lt;int&gt; | Reconstruction.Costs...000.US.. &lt;int&gt; | Insured.Damages...000.US.. &lt;int&gt; | Total.Damages...000.US.. &lt;int&gt; | CPI &lt;dbl&gt; | Adm.Level &lt;chr&gt; | Admin1.Code &lt;chr&gt; | Admin2.Code &lt;chr&gt; | Geo.Locations &lt;chr&gt; |\n|---|---|---|---|---|---|---|---|---|---|---|---|---|---|---|---|---|---|---|---|---|---|\n| 1 | 1970-0013-ARG | 1970 |  13 | <!----> | Natural | Hydrological   | Flood | <!----> | <!----> | <!----> | ⋯ | NA |       NA | NA | NA | 25000 | 15.00128 | <!----> | <!----> | <!----> | <!----> |\n| 2 | 1970-0109-AUS | 1970 | 109 | <!----> | Natural | Meteorological | Storm | Tropical cyclone | <!----> | Ada | ⋯ | NA |       NA | NA | NA | 72475 | 15.00128 | <!----> | <!----> | <!----> | <!----> |\n| 3 | 1970-0044-BEN | 1970 |  44 | <!----> | Natural | Hydrological   | Flood | <!----> | <!----> | <!----> | ⋯ | NA |       NA | NA | NA |   200 | 15.00128 | <!----> | <!----> | <!----> | <!----> |\n| 4 | 1970-0063-BGD | 1970 |  63 | <!----> | Natural | Meteorological | Storm | Tropical cyclone | <!----> | <!----> | ⋯ | NA |  3648000 | NA | NA | 86400 | 15.00128 | <!----> | <!----> | <!----> | <!----> |\n| 5 | 1970-0026-BGD | 1970 |  26 | <!----> | Natural | Meteorological | Storm | <!----> | <!----> | <!----> | ⋯ | NA |      110 | NA | NA |    NA | 15.00128 | <!----> | <!----> | <!----> | <!----> |\n| 6 | 1970-0035-BGD | 1970 |  35 | <!----> | Natural | Hydrological   | Flood | <!----> | <!----> | <!----> | ⋯ | NA | 10000000 | NA | NA | 25000 | 15.00128 | <!----> | <!----> | <!----> | <!----> |\n\n",
            "text/latex": "A data.frame: 6 × 47\n\\begin{tabular}{r|lllllllllllllllllllll}\n  & Dis.No & Year & Seq & Glide & Disaster.Group & Disaster.Subgroup & Disaster.Type & Disaster.Subtype & Disaster.Subsubtype & Event.Name & ⋯ & No.Homeless & Total.Affected & Reconstruction.Costs...000.US.. & Insured.Damages...000.US.. & Total.Damages...000.US.. & CPI & Adm.Level & Admin1.Code & Admin2.Code & Geo.Locations\\\\\n  & <chr> & <int> & <int> & <chr> & <chr> & <chr> & <chr> & <chr> & <chr> & <chr> & ⋯ & <int> & <int> & <int> & <int> & <int> & <dbl> & <chr> & <chr> & <chr> & <chr>\\\\\n\\hline\n\t1 & 1970-0013-ARG & 1970 &  13 &  & Natural & Hydrological   & Flood &                  &  &     & ⋯ & NA &       NA & NA & NA & 25000 & 15.00128 &  &  &  & \\\\\n\t2 & 1970-0109-AUS & 1970 & 109 &  & Natural & Meteorological & Storm & Tropical cyclone &  & Ada & ⋯ & NA &       NA & NA & NA & 72475 & 15.00128 &  &  &  & \\\\\n\t3 & 1970-0044-BEN & 1970 &  44 &  & Natural & Hydrological   & Flood &                  &  &     & ⋯ & NA &       NA & NA & NA &   200 & 15.00128 &  &  &  & \\\\\n\t4 & 1970-0063-BGD & 1970 &  63 &  & Natural & Meteorological & Storm & Tropical cyclone &  &     & ⋯ & NA &  3648000 & NA & NA & 86400 & 15.00128 &  &  &  & \\\\\n\t5 & 1970-0026-BGD & 1970 &  26 &  & Natural & Meteorological & Storm &                  &  &     & ⋯ & NA &      110 & NA & NA &    NA & 15.00128 &  &  &  & \\\\\n\t6 & 1970-0035-BGD & 1970 &  35 &  & Natural & Hydrological   & Flood &                  &  &     & ⋯ & NA & 10000000 & NA & NA & 25000 & 15.00128 &  &  &  & \\\\\n\\end{tabular}\n",
            "text/plain": [
              "  Dis.No        Year Seq Glide Disaster.Group Disaster.Subgroup Disaster.Type\n",
              "1 1970-0013-ARG 1970  13       Natural        Hydrological      Flood        \n",
              "2 1970-0109-AUS 1970 109       Natural        Meteorological    Storm        \n",
              "3 1970-0044-BEN 1970  44       Natural        Hydrological      Flood        \n",
              "4 1970-0063-BGD 1970  63       Natural        Meteorological    Storm        \n",
              "5 1970-0026-BGD 1970  26       Natural        Meteorological    Storm        \n",
              "6 1970-0035-BGD 1970  35       Natural        Hydrological      Flood        \n",
              "  Disaster.Subtype Disaster.Subsubtype Event.Name ⋯ No.Homeless Total.Affected\n",
              "1                                                 ⋯ NA                NA      \n",
              "2 Tropical cyclone                     Ada        ⋯ NA                NA      \n",
              "3                                                 ⋯ NA                NA      \n",
              "4 Tropical cyclone                                ⋯ NA           3648000      \n",
              "5                                                 ⋯ NA               110      \n",
              "6                                                 ⋯ NA          10000000      \n",
              "  Reconstruction.Costs...000.US.. Insured.Damages...000.US..\n",
              "1 NA                              NA                        \n",
              "2 NA                              NA                        \n",
              "3 NA                              NA                        \n",
              "4 NA                              NA                        \n",
              "5 NA                              NA                        \n",
              "6 NA                              NA                        \n",
              "  Total.Damages...000.US.. CPI      Adm.Level Admin1.Code Admin2.Code\n",
              "1 25000                    15.00128                                  \n",
              "2 72475                    15.00128                                  \n",
              "3   200                    15.00128                                  \n",
              "4 86400                    15.00128                                  \n",
              "5    NA                    15.00128                                  \n",
              "6 25000                    15.00128                                  \n",
              "  Geo.Locations\n",
              "1              \n",
              "2              \n",
              "3              \n",
              "4              \n",
              "5              \n",
              "6              "
            ]
          },
          "metadata": {}
        }
      ]
    },
    {
      "cell_type": "code",
      "source": [
        "str(data2)"
      ],
      "metadata": {
        "id": "a9OY_Pytqffc",
        "colab": {
          "base_uri": "https://localhost:8080/"
        },
        "outputId": "2e0e03fd-4462-4a09-ceba-9f0c4629db7a"
      },
      "execution_count": 12,
      "outputs": [
        {
          "output_type": "stream",
          "name": "stdout",
          "text": [
            "'data.frame':\t14644 obs. of  47 variables:\n",
            " $ Dis.No                         : chr  \"1970-0013-ARG\" \"1970-0109-AUS\" \"1970-0044-BEN\" \"1970-0063-BGD\" ...\n",
            " $ Year                           : int  1970 1970 1970 1970 1970 1970 1970 1970 1970 1970 ...\n",
            " $ Seq                            : int  13 109 44 63 26 35 58 9005 37 54 ...\n",
            " $ Glide                          : chr  \"\" \"\" \"\" \"\" ...\n",
            " $ Disaster.Group                 : chr  \"Natural\" \"Natural\" \"Natural\" \"Natural\" ...\n",
            " $ Disaster.Subgroup              : chr  \"Hydrological\" \"Meteorological\" \"Hydrological\" \"Meteorological\" ...\n",
            " $ Disaster.Type                  : chr  \"Flood\" \"Storm\" \"Flood\" \"Storm\" ...\n",
            " $ Disaster.Subtype               : chr  \"\" \"Tropical cyclone\" \"\" \"Tropical cyclone\" ...\n",
            " $ Disaster.Subsubtype            : chr  \"\" \"\" \"\" \"\" ...\n",
            " $ Event.Name                     : chr  \"\" \"Ada\" \"\" \"\" ...\n",
            " $ Country                        : chr  \"Argentina\" \"Australia\" \"Benin\" \"Bangladesh\" ...\n",
            " $ ISO                            : chr  \"ARG\" \"AUS\" \"BEN\" \"BGD\" ...\n",
            " $ Region                         : chr  \"South America\" \"Australia and New Zealand\" \"Western Africa\" \"Southern Asia\" ...\n",
            " $ Continent                      : chr  \"Americas\" \"Oceania\" \"Africa\" \"Asia\" ...\n",
            " $ Location                       : chr  \"Mendoza\" \"Queensland\" \"Atacora region\" \"Khulna, Chittagong\" ...\n",
            " $ Origin                         : chr  \"\" \"\" \"\" \"\" ...\n",
            " $ Associated.Dis                 : chr  \"\" \"\" \"\" \"\" ...\n",
            " $ Associated.Dis2                : chr  \"\" \"\" \"\" \"\" ...\n",
            " $ OFDA.Response                  : chr  \"\" \"\" \"Yes\" \"Yes\" ...\n",
            " $ Appeal                         : chr  \"\" \"\" \"\" \"\" ...\n",
            " $ Declaration                    : chr  \"\" \"\" \"\" \"\" ...\n",
            " $ Aid.Contribution               : int  NA NA NA NA NA NA NA NA NA NA ...\n",
            " $ Dis.Mag.Value                  : int  NA NA NA NA NA NA NA NA NA NA ...\n",
            " $ Dis.Mag.Scale                  : chr  \"Km2\" \"Kph\" \"Km2\" \"Kph\" ...\n",
            " $ Latitude                       : chr  \"\" \"\" \"\" \"\" ...\n",
            " $ Longitude                      : chr  \"\" \"\" \"\" \"\" ...\n",
            " $ Local.Time                     : chr  \"\" \"\" \"\" \"\" ...\n",
            " $ River.Basin                    : chr  \"\" \"\" \"\" \"\" ...\n",
            " $ Start.Year                     : int  1970 1970 1970 1970 1970 1970 1970 1970 1970 1970 ...\n",
            " $ Start.Month                    : int  1 1 9 11 4 7 10 8 7 10 ...\n",
            " $ Start.Day                      : int  4 NA NA 12 13 NA 23 NA 21 2 ...\n",
            " $ End.Year                       : int  1970 1970 1970 1970 1970 1970 1970 1970 1970 1970 ...\n",
            " $ End.Month                      : int  1 1 9 11 4 7 10 NA 7 10 ...\n",
            " $ End.Day                        : int  4 NA NA 12 13 NA 23 NA 21 2 ...\n",
            " $ Total.Deaths                   : int  36 13 NA 300000 17 NA 300 NA 172 3 ...\n",
            " $ No.Injured                     : int  NA NA NA NA NA NA NA NA NA 10 ...\n",
            " $ No.Affected                    : int  NA NA NA 3648000 110 10000000 NA 10000000 104371 200 ...\n",
            " $ No.Homeless                    : int  NA NA NA NA NA NA NA NA NA NA ...\n",
            " $ Total.Affected                 : int  NA NA NA 3648000 110 10000000 NA 10000000 104371 210 ...\n",
            " $ Reconstruction.Costs...000.US..: int  NA NA NA NA NA NA NA NA NA NA ...\n",
            " $ Insured.Damages...000.US..     : int  NA NA NA NA NA NA NA NA NA NA ...\n",
            " $ Total.Damages...000.US..       : int  25000 72475 200 86400 NA 25000 NA 100 46000 500 ...\n",
            " $ CPI                            : num  15 15 15 15 15 ...\n",
            " $ Adm.Level                      : chr  \"\" \"\" \"\" \"\" ...\n",
            " $ Admin1.Code                    : chr  \"\" \"\" \"\" \"\" ...\n",
            " $ Admin2.Code                    : chr  \"\" \"\" \"\" \"\" ...\n",
            " $ Geo.Locations                  : chr  \"\" \"\" \"\" \"\" ...\n"
          ]
        }
      ]
    },
    {
      "cell_type": "code",
      "source": [
        "summary(data2)"
      ],
      "metadata": {
        "id": "7StGwwPVSKqZ",
        "colab": {
          "base_uri": "https://localhost:8080/",
          "height": 1000
        },
        "outputId": "9078227e-dfa4-4400-b5f5-d41520397358"
      },
      "execution_count": 13,
      "outputs": [
        {
          "output_type": "display_data",
          "data": {
            "text/plain": [
              "    Dis.No               Year           Seq            Glide          \n",
              " Length:14644       Min.   :1970   Min.   :   1.0   Length:14644      \n",
              " Class :character   1st Qu.:1993   1st Qu.: 130.0   Class :character  \n",
              " Mode  :character   Median :2003   Median : 304.0   Mode  :character  \n",
              "                    Mean   :2002   Mean   : 731.6                     \n",
              "                    3rd Qu.:2012   3rd Qu.: 503.0                     \n",
              "                    Max.   :2021   Max.   :9881.0                     \n",
              "                                                                      \n",
              " Disaster.Group     Disaster.Subgroup  Disaster.Type      Disaster.Subtype  \n",
              " Length:14644       Length:14644       Length:14644       Length:14644      \n",
              " Class :character   Class :character   Class :character   Class :character  \n",
              " Mode  :character   Mode  :character   Mode  :character   Mode  :character  \n",
              "                                                                            \n",
              "                                                                            \n",
              "                                                                            \n",
              "                                                                            \n",
              " Disaster.Subsubtype  Event.Name          Country              ISO           \n",
              " Length:14644        Length:14644       Length:14644       Length:14644      \n",
              " Class :character    Class :character   Class :character   Class :character  \n",
              " Mode  :character    Mode  :character   Mode  :character   Mode  :character  \n",
              "                                                                             \n",
              "                                                                             \n",
              "                                                                             \n",
              "                                                                             \n",
              "    Region           Continent           Location            Origin         \n",
              " Length:14644       Length:14644       Length:14644       Length:14644      \n",
              " Class :character   Class :character   Class :character   Class :character  \n",
              " Mode  :character   Mode  :character   Mode  :character   Mode  :character  \n",
              "                                                                            \n",
              "                                                                            \n",
              "                                                                            \n",
              "                                                                            \n",
              " Associated.Dis     Associated.Dis2    OFDA.Response         Appeal         \n",
              " Length:14644       Length:14644       Length:14644       Length:14644      \n",
              " Class :character   Class :character   Class :character   Class :character  \n",
              " Mode  :character   Mode  :character   Mode  :character   Mode  :character  \n",
              "                                                                            \n",
              "                                                                            \n",
              "                                                                            \n",
              "                                                                            \n",
              " Declaration        Aid.Contribution   Dis.Mag.Value      Dis.Mag.Scale     \n",
              " Length:14644       Min.   :       1   Min.   :     -57   Length:14644      \n",
              " Class :character   1st Qu.:     175   1st Qu.:       7   Class :character  \n",
              " Mode  :character   Median :     721   Median :     180   Mode  :character  \n",
              "                    Mean   :  125414   Mean   :   50935                     \n",
              "                    3rd Qu.:    3511   3rd Qu.:   15150                     \n",
              "                    Max.   :78000000   Max.   :13025874                     \n",
              "                    NA's   :13967      NA's   :10075                        \n",
              "   Latitude          Longitude          Local.Time        River.Basin       \n",
              " Length:14644       Length:14644       Length:14644       Length:14644      \n",
              " Class :character   Class :character   Class :character   Class :character  \n",
              " Mode  :character   Mode  :character   Mode  :character   Mode  :character  \n",
              "                                                                            \n",
              "                                                                            \n",
              "                                                                            \n",
              "                                                                            \n",
              "   Start.Year    Start.Month       Start.Day        End.Year   \n",
              " Min.   :1970   Min.   : 1.000   Min.   : 1.00   Min.   :1970  \n",
              " 1st Qu.:1993   1st Qu.: 4.000   1st Qu.: 7.00   1st Qu.:1993  \n",
              " Median :2003   Median : 7.000   Median :15.00   Median :2003  \n",
              " Mean   :2002   Mean   : 6.411   Mean   :15.21   Mean   :2002  \n",
              " 3rd Qu.:2012   3rd Qu.: 9.000   3rd Qu.:23.00   3rd Qu.:2012  \n",
              " Max.   :2021   Max.   :12.000   Max.   :31.00   Max.   :2021  \n",
              "                NA's   :268      NA's   :3067                  \n",
              "   End.Month         End.Day       Total.Deaths        No.Injured     \n",
              " Min.   : 1.000   Min.   : 1.00   Min.   :     1.0   Min.   :      1  \n",
              " 1st Qu.: 4.000   1st Qu.: 8.00   1st Qu.:     5.0   1st Qu.:     12  \n",
              " Median : 7.000   Median :16.00   Median :    16.0   Median :     50  \n",
              " Mean   : 6.549   Mean   :15.79   Mean   :   361.8   Mean   :   2487  \n",
              " 3rd Qu.: 9.000   3rd Qu.:24.00   3rd Qu.:    50.0   3rd Qu.:    200  \n",
              " Max.   :12.000   Max.   :31.00   Max.   :300000.0   Max.   :1800000  \n",
              " NA's   :549      NA's   :2994    NA's   :4445       NA's   :10993    \n",
              "  No.Affected         No.Homeless       Total.Affected     \n",
              " Min.   :        1   Min.   :       3   Min.   :        1  \n",
              " 1st Qu.:     1200   1st Qu.:     514   1st Qu.:      632  \n",
              " Median :    10000   Median :    3000   Median :     5736  \n",
              " Mean   :   888910   Mean   :   72296   Mean   :   727739  \n",
              " 3rd Qu.:    88552   3rd Qu.:   16000   3rd Qu.:    56000  \n",
              " Max.   :330000000   Max.   :15850000   Max.   :330000000  \n",
              " NA's   :5798        NA's   :12395      NA's   :3603       \n",
              " Reconstruction.Costs...000.US.. Insured.Damages...000.US..\n",
              " Min.   :      84                Min.   :      34          \n",
              " 1st Qu.:   12000                1st Qu.:   50000          \n",
              " Median :  194000                Median :  172500          \n",
              " Mean   : 2392251                Mean   :  799942          \n",
              " 3rd Qu.: 1520376                3rd Qu.:  500000          \n",
              " Max.   :25000000                Max.   :60000000          \n",
              " NA's   :14613                   NA's   :13550             \n",
              " Total.Damages...000.US..      CPI          Adm.Level        \n",
              " Min.   :        2        Min.   : 15.00   Length:14644      \n",
              " 1st Qu.:    10000        1st Qu.: 55.82   Class :character  \n",
              " Median :    71000        Median : 69.50   Mode  :character  \n",
              " Mean   :   774687        Mean   : 68.76                     \n",
              " 3rd Qu.:   350000        3rd Qu.: 86.91                     \n",
              " Max.   :210000000        Max.   :100.00                     \n",
              " NA's   :9781             NA's   :315                        \n",
              " Admin1.Code        Admin2.Code        Geo.Locations     \n",
              " Length:14644       Length:14644       Length:14644      \n",
              " Class :character   Class :character   Class :character  \n",
              " Mode  :character   Mode  :character   Mode  :character  \n",
              "                                                         \n",
              "                                                         \n",
              "                                                         \n",
              "                                                         "
            ]
          },
          "metadata": {}
        }
      ]
    },
    {
      "cell_type": "code",
      "source": [
        "sd(data2$No.Affected, na.rm=TRUE)\n",
        "sd(data2$No.Injured, na.rm=TRUE)\n",
        "sd(data2$No.Homeless, na.rm=TRUE)\n",
        "sd(data2$Total.Affected, na.rm=TRUE)\n",
        "sd(data2$Total.Damages...000.US.., na.rm=TRUE)\n",
        "sd(data2$Total.Deaths, na.rm=TRUE)\n",
        "sd(data2$Reconstruction.Costs...000.US.., na.rm=TRUE)\n",
        "sd(data2$Insured.Damages...000.US.., na.rm=TRUE)"
      ],
      "metadata": {
        "id": "cJZJ9OjTK5dX",
        "colab": {
          "base_uri": "https://localhost:8080/",
          "height": 156
        },
        "outputId": "48060e5f-4639-4a72-b9fb-77d967fe1d94"
      },
      "execution_count": 14,
      "outputs": [
        {
          "output_type": "display_data",
          "data": {
            "text/html": [
              "8680287.55578667"
            ],
            "text/markdown": "8680287.55578667",
            "text/latex": "8680287.55578667",
            "text/plain": [
              "[1] 8680288"
            ]
          },
          "metadata": {}
        },
        {
          "output_type": "display_data",
          "data": {
            "text/html": [
              "34024.0397924305"
            ],
            "text/markdown": "34024.0397924305",
            "text/latex": "34024.0397924305",
            "text/plain": [
              "[1] 34024.04"
            ]
          },
          "metadata": {}
        },
        {
          "output_type": "display_data",
          "data": {
            "text/html": [
              "527142.166573218"
            ],
            "text/markdown": "527142.166573218",
            "text/latex": "527142.166573218",
            "text/plain": [
              "[1] 527142.2"
            ]
          },
          "metadata": {}
        },
        {
          "output_type": "display_data",
          "data": {
            "text/html": [
              "7851209.79730188"
            ],
            "text/markdown": "7851209.79730188",
            "text/latex": "7851209.79730188",
            "text/plain": [
              "[1] 7851210"
            ]
          },
          "metadata": {}
        },
        {
          "output_type": "display_data",
          "data": {
            "text/html": [
              "4901266.46317592"
            ],
            "text/markdown": "4901266.46317592",
            "text/latex": "4901266.46317592",
            "text/plain": [
              "[1] 4901266"
            ]
          },
          "metadata": {}
        },
        {
          "output_type": "display_data",
          "data": {
            "text/html": [
              "6495.04585330822"
            ],
            "text/markdown": "6495.04585330822",
            "text/latex": "6495.04585330822",
            "text/plain": [
              "[1] 6495.046"
            ]
          },
          "metadata": {}
        },
        {
          "output_type": "display_data",
          "data": {
            "text/html": [
              "5229396.7207904"
            ],
            "text/markdown": "5229396.7207904",
            "text/latex": "5229396.7207904",
            "text/plain": [
              "[1] 5229397"
            ]
          },
          "metadata": {}
        },
        {
          "output_type": "display_data",
          "data": {
            "text/html": [
              "3060282.73138624"
            ],
            "text/markdown": "3060282.73138624",
            "text/latex": "3060282.73138624",
            "text/plain": [
              "[1] 3060283"
            ]
          },
          "metadata": {}
        }
      ]
    },
    {
      "cell_type": "code",
      "source": [
        "var(data2$No.Affected, na.rm=TRUE)\n",
        "var(data2$No.Injured, na.rm=TRUE)\n",
        "var(data2$No.Homeless, na.rm=TRUE)\n",
        "var(data2$Total.Affected, na.rm=TRUE)\n",
        "var(data2$Total.Damages...000.US.., na.rm=TRUE)\n",
        "var(data2$Total.Deaths, na.rm=TRUE)\n",
        "var(data2$Reconstruction.Costs...000.US.., na.rm=TRUE)\n",
        "var(data2$Insured.Damages...000.US.., na.rm=TRUE)"
      ],
      "metadata": {
        "id": "GSo_MaZnM3mM",
        "colab": {
          "base_uri": "https://localhost:8080/",
          "height": 156
        },
        "outputId": "a2122cb2-bea8-4f17-e016-1c39fe2ab38c"
      },
      "execution_count": 15,
      "outputs": [
        {
          "output_type": "display_data",
          "data": {
            "text/html": [
              "75347392051144.9"
            ],
            "text/markdown": "75347392051144.9",
            "text/latex": "75347392051144.9",
            "text/plain": [
              "[1] 7.534739e+13"
            ]
          },
          "metadata": {}
        },
        {
          "output_type": "display_data",
          "data": {
            "text/html": [
              "1157635283.79689"
            ],
            "text/markdown": "1157635283.79689",
            "text/latex": "1157635283.79689",
            "text/plain": [
              "[1] 1157635284"
            ]
          },
          "metadata": {}
        },
        {
          "output_type": "display_data",
          "data": {
            "text/html": [
              "277878863779.507"
            ],
            "text/markdown": "277878863779.507",
            "text/latex": "277878863779.507",
            "text/plain": [
              "[1] 277878863780"
            ]
          },
          "metadata": {}
        },
        {
          "output_type": "display_data",
          "data": {
            "text/html": [
              "61641495281249.1"
            ],
            "text/markdown": "61641495281249.1",
            "text/latex": "61641495281249.1",
            "text/plain": [
              "[1] 6.16415e+13"
            ]
          },
          "metadata": {}
        },
        {
          "output_type": "display_data",
          "data": {
            "text/html": [
              "24022412943053"
            ],
            "text/markdown": "24022412943053",
            "text/latex": "24022412943053",
            "text/plain": [
              "[1] 2.402241e+13"
            ]
          },
          "metadata": {}
        },
        {
          "output_type": "display_data",
          "data": {
            "text/html": [
              "42185620.6365763"
            ],
            "text/markdown": "42185620.6365763",
            "text/latex": "42185620.6365763",
            "text/plain": [
              "[1] 42185621"
            ]
          },
          "metadata": {}
        },
        {
          "output_type": "display_data",
          "data": {
            "text/html": [
              "27346590063413.4"
            ],
            "text/markdown": "27346590063413.4",
            "text/latex": "27346590063413.4",
            "text/plain": [
              "[1] 2.734659e+13"
            ]
          },
          "metadata": {}
        },
        {
          "output_type": "display_data",
          "data": {
            "text/html": [
              "9365330396020.84"
            ],
            "text/markdown": "9365330396020.84",
            "text/latex": "9365330396020.84",
            "text/plain": [
              "[1] 9.36533e+12"
            ]
          },
          "metadata": {}
        }
      ]
    }
  ]
}